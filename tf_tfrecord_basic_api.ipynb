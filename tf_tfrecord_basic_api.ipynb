{
 "cells": [
  {
   "cell_type": "code",
   "execution_count": 1,
   "metadata": {},
   "outputs": [
    {
     "name": "stdout",
     "output_type": "stream",
     "text": [
      "2.1.0\n",
      "sys.version_info(major=3, minor=7, micro=4, releaselevel='final', serial=0)\n",
      "matplotlib 3.2.0\n",
      "numpy 1.18.1\n",
      "pandas 1.0.1\n",
      "sklearn 0.21.0\n",
      "tensorflow 2.1.0\n",
      "tensorflow_core.python.keras.api._v2.keras 2.2.4-tf\n"
     ]
    }
   ],
   "source": [
    "import numpy as np\n",
    "import matplotlib as mpl\n",
    "import matplotlib.pyplot as plt\n",
    "import os\n",
    "import sys\n",
    "import time\n",
    "import sklearn\n",
    "import tensorflow as tf\n",
    "from tensorflow import keras\n",
    "import pandas as pd\n",
    "\n",
    "print(tf.__version__)\n",
    "print(sys.version_info)\n",
    "for module in mpl, np, pd,  sklearn, tf, keras:\n",
    "    print(module.__name__, module.__version__)"
   ]
  },
  {
   "cell_type": "code",
   "execution_count": 2,
   "metadata": {},
   "outputs": [
    {
     "name": "stdout",
     "output_type": "stream",
     "text": [
      "value: \"machine learning\"\n",
      "value: \"cc150\"\n",
      "\n",
      "value: 15.100000381469727\n",
      "value: 3.4000000953674316\n",
      "value: 5.0\n",
      "value: 6.0\n",
      "\n",
      "value: 32\n",
      "\n",
      "feature {\n",
      "  key: \"age\"\n",
      "  value {\n",
      "    int64_list {\n",
      "      value: 32\n",
      "    }\n",
      "  }\n",
      "}\n",
      "feature {\n",
      "  key: \"favorite_books\"\n",
      "  value {\n",
      "    bytes_list {\n",
      "      value: \"machine learning\"\n",
      "      value: \"cc150\"\n",
      "    }\n",
      "  }\n",
      "}\n",
      "feature {\n",
      "  key: \"hours\"\n",
      "  value {\n",
      "    float_list {\n",
      "      value: 15.100000381469727\n",
      "      value: 3.4000000953674316\n",
      "      value: 5.0\n",
      "      value: 6.0\n",
      "    }\n",
      "  }\n",
      "}\n",
      "\n"
     ]
    }
   ],
   "source": [
    "# tfrecord file format\n",
    "# -> tf.train.Example\n",
    "#    -> tf.train.Features -> { 'key': tf.train.Feature }\n",
    "#       -> tf.train.Feature -> tf.train.ByteList/FloatList/Int64List\n",
    "\n",
    "favorite_books = [name.encode('utf-8') for name in ['machine learning', 'cc150']]\n",
    "favorite_books_bytelist = tf.train.BytesList(value = favorite_books)\n",
    "print(favorite_books_bytelist)\n",
    "\n",
    "hours_floatlist = tf.train.FloatList(value = [ 15.1, 3.4, 5.0, 6.0])\n",
    "print(hours_floatlist)\n",
    "\n",
    "age_int64list = tf.train.Int64List(value = [32])\n",
    "print(age_int64list)\n",
    "\n",
    "features = tf.train.Features(\n",
    "    feature = {\n",
    "        'favorite_books': tf.train.Feature(\n",
    "            bytes_list = favorite_books_bytelist),\n",
    "        'hours': tf.train.Feature(\n",
    "            float_list = hours_floatlist),\n",
    "        'age': tf.train.Feature(\n",
    "            int64_list = age_int64list)\n",
    "    }\n",
    ")\n",
    "\n",
    "print(features)"
   ]
  }
 ],
 "metadata": {
  "kernelspec": {
   "display_name": "Python 3",
   "language": "python",
   "name": "python3"
  },
  "language_info": {
   "codemirror_mode": {
    "name": "ipython",
    "version": 3
   },
   "file_extension": ".py",
   "mimetype": "text/x-python",
   "name": "python",
   "nbconvert_exporter": "python",
   "pygments_lexer": "ipython3",
   "version": "3.7.4"
  }
 },
 "nbformat": 4,
 "nbformat_minor": 4
}
