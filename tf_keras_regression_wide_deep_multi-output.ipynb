{
 "cells": [
  {
   "cell_type": "code",
   "execution_count": 1,
   "metadata": {},
   "outputs": [
    {
     "name": "stdout",
     "output_type": "stream",
     "text": [
      "2.1.0\n",
      "sys.version_info(major=3, minor=7, micro=3, releaselevel='final', serial=0)\n",
      "matplotlib 3.1.3\n",
      "numpy 1.18.1\n",
      "pandas 1.0.1\n",
      "sklearn 0.22.2\n",
      "tensorflow 2.1.0\n",
      "tensorflow_core.python.keras.api._v2.keras 2.2.4-tf\n"
     ]
    }
   ],
   "source": [
    "import numpy as np\n",
    "import matplotlib as mpl\n",
    "import matplotlib.pyplot as plt\n",
    "import os\n",
    "import sys\n",
    "import time\n",
    "import sklearn\n",
    "import tensorflow as tf\n",
    "from tensorflow import keras\n",
    "import pandas as pd\n",
    "\n",
    "print(tf.__version__)\n",
    "print(sys.version_info)\n",
    "for module in mpl, np, pd,  sklearn, tf, keras:\n",
    "    print(module.__name__, module.__version__)"
   ]
  },
  {
   "cell_type": "code",
   "execution_count": 2,
   "metadata": {},
   "outputs": [
    {
     "name": "stdout",
     "output_type": "stream",
     "text": [
      ".. _california_housing_dataset:\n",
      "\n",
      "California Housing dataset\n",
      "--------------------------\n",
      "\n",
      "**Data Set Characteristics:**\n",
      "\n",
      "    :Number of Instances: 20640\n",
      "\n",
      "    :Number of Attributes: 8 numeric, predictive attributes and the target\n",
      "\n",
      "    :Attribute Information:\n",
      "        - MedInc        median income in block\n",
      "        - HouseAge      median house age in block\n",
      "        - AveRooms      average number of rooms\n",
      "        - AveBedrms     average number of bedrooms\n",
      "        - Population    block population\n",
      "        - AveOccup      average house occupancy\n",
      "        - Latitude      house block latitude\n",
      "        - Longitude     house block longitude\n",
      "\n",
      "    :Missing Attribute Values: None\n",
      "\n",
      "This dataset was obtained from the StatLib repository.\n",
      "http://lib.stat.cmu.edu/datasets/\n",
      "\n",
      "The target variable is the median house value for California districts.\n",
      "\n",
      "This dataset was derived from the 1990 U.S. census, using one row per census\n",
      "block group. A block group is the smallest geographical unit for which the U.S.\n",
      "Census Bureau publishes sample data (a block group typically has a population\n",
      "of 600 to 3,000 people).\n",
      "\n",
      "It can be downloaded/loaded using the\n",
      ":func:`sklearn.datasets.fetch_california_housing` function.\n",
      "\n",
      ".. topic:: References\n",
      "\n",
      "    - Pace, R. Kelley and Ronald Barry, Sparse Spatial Autoregressions,\n",
      "      Statistics and Probability Letters, 33 (1997) 291-297\n",
      "\n",
      "(20640, 8)\n",
      "(20640,)\n"
     ]
    }
   ],
   "source": [
    "from sklearn.datasets import fetch_california_housing\n",
    "\n",
    "housing = fetch_california_housing()\n",
    "print(housing.DESCR)\n",
    "print(housing.data.shape)\n",
    "print(housing.target.shape)"
   ]
  },
  {
   "cell_type": "code",
   "execution_count": 3,
   "metadata": {},
   "outputs": [
    {
     "name": "stdout",
     "output_type": "stream",
     "text": [
      "(3870, 8) (3870,)\n",
      "(11610, 8) (11610,)\n",
      "(5160, 8) (5160,)\n"
     ]
    }
   ],
   "source": [
    "from sklearn.model_selection import train_test_split\n",
    "\n",
    "x_train_all, x_test, y_train_all, y_test = train_test_split(housing.data, housing.target, random_state =7)\n",
    "x_train, x_valid, y_train, y_valid = train_test_split(x_train_all, y_train_all, random_state =11)\n",
    "\n",
    "print(x_valid.shape, y_valid.shape)\n",
    "print(x_train.shape, y_train.shape)\n",
    "print(x_test.shape, y_test.shape)"
   ]
  },
  {
   "cell_type": "code",
   "execution_count": 4,
   "metadata": {},
   "outputs": [],
   "source": [
    "from sklearn.preprocessing import StandardScaler\n",
    "\n",
    "scaler = StandardScaler()\n",
    "x_train_scaled = scaler.fit_transform(x_train)\n",
    "x_valid_scaled = scaler.transform(x_valid)\n",
    "x_test_scaled = scaler.transform(x_test)\n"
   ]
  },
  {
   "cell_type": "code",
   "execution_count": 5,
   "metadata": {},
   "outputs": [
    {
     "name": "stdout",
     "output_type": "stream",
     "text": [
      "Model: \"model\"\n",
      "__________________________________________________________________________________________________\n",
      "Layer (type)                    Output Shape         Param #     Connected to                     \n",
      "==================================================================================================\n",
      "input_2 (InputLayer)            [(None, 6)]          0                                            \n",
      "__________________________________________________________________________________________________\n",
      "dense (Dense)                   (None, 30)           210         input_2[0][0]                    \n",
      "__________________________________________________________________________________________________\n",
      "input_1 (InputLayer)            [(None, 5)]          0                                            \n",
      "__________________________________________________________________________________________________\n",
      "dense_1 (Dense)                 (None, 30)           930         dense[0][0]                      \n",
      "__________________________________________________________________________________________________\n",
      "concatenate (Concatenate)       (None, 35)           0           input_1[0][0]                    \n",
      "                                                                 dense_1[0][0]                    \n",
      "__________________________________________________________________________________________________\n",
      "dense_2 (Dense)                 (None, 1)            36          concatenate[0][0]                \n",
      "__________________________________________________________________________________________________\n",
      "dense_3 (Dense)                 (None, 1)            31          dense_1[0][0]                    \n",
      "==================================================================================================\n",
      "Total params: 1,207\n",
      "Trainable params: 1,207\n",
      "Non-trainable params: 0\n",
      "__________________________________________________________________________________________________\n"
     ]
    }
   ],
   "source": [
    "# 多输入多输出\n",
    "input_wide = keras.layers.Input(shape =[5])\n",
    "input_deep = keras.layers.Input(shape = [6])\n",
    "hidden1 = keras.layers.Dense(30, activation = 'relu')(input_deep)\n",
    "hidden2 = keras.layers.Dense(30, activation = 'relu')(hidden1)\n",
    "concat = keras.layers.concatenate([input_wide, hidden2])\n",
    "output = keras.layers.Dense(1)(concat)\n",
    "output2 = keras.layers.Dense(1)(hidden2)\n",
    "model = keras.models.Model(inputs = [input_wide, input_deep], outputs = [output, output2] )\n",
    "\n",
    "model.compile(loss = 'mean_squared_error', optimizer = 'sgd')\n",
    "callbacks = [keras.callbacks.EarlyStopping(patience=5, min_delta=1e-2)]\n",
    "model.summary()"
   ]
  },
  {
   "cell_type": "code",
   "execution_count": 6,
   "metadata": {},
   "outputs": [
    {
     "name": "stdout",
     "output_type": "stream",
     "text": [
      "Train on 11610 samples, validate on 3870 samples\n",
      "Epoch 1/100\n",
      "11610/11610 [==============================] - 1s 61us/sample - loss: 2.0751 - dense_2_loss: 0.9891 - dense_3_loss: 1.0854 - val_loss: 1.3211 - val_dense_2_loss: 0.5496 - val_dense_3_loss: 0.7713\n",
      "Epoch 2/100\n",
      "11610/11610 [==============================] - 0s 33us/sample - loss: 1.2698 - dense_2_loss: 0.4906 - dense_3_loss: 0.7792 - val_loss: 1.1975 - val_dense_2_loss: 0.4825 - val_dense_3_loss: 0.7149\n",
      "Epoch 3/100\n",
      "11610/11610 [==============================] - 0s 31us/sample - loss: 1.0332 - dense_2_loss: 0.4423 - dense_3_loss: 0.5906 - val_loss: 1.0275 - val_dense_2_loss: 0.4446 - val_dense_3_loss: 0.5827\n",
      "Epoch 4/100\n",
      "11610/11610 [==============================] - 0s 36us/sample - loss: 0.9609 - dense_2_loss: 0.4186 - dense_3_loss: 0.5423 - val_loss: 0.9973 - val_dense_2_loss: 0.4461 - val_dense_3_loss: 0.5510\n",
      "Epoch 5/100\n",
      "11610/11610 [==============================] - 0s 36us/sample - loss: 0.9182 - dense_2_loss: 0.4011 - dense_3_loss: 0.5171 - val_loss: 0.9487 - val_dense_2_loss: 0.4161 - val_dense_3_loss: 0.5323\n",
      "Epoch 6/100\n",
      "11610/11610 [==============================] - 0s 33us/sample - loss: 0.8719 - dense_2_loss: 0.3864 - dense_3_loss: 0.4856 - val_loss: 0.8884 - val_dense_2_loss: 0.4007 - val_dense_3_loss: 0.4876\n",
      "Epoch 7/100\n",
      "11610/11610 [==============================] - 0s 35us/sample - loss: 0.8319 - dense_2_loss: 0.3713 - dense_3_loss: 0.4606 - val_loss: 0.8376 - val_dense_2_loss: 0.3743 - val_dense_3_loss: 0.4632\n",
      "Epoch 8/100\n",
      "11610/11610 [==============================] - 0s 33us/sample - loss: 0.8085 - dense_2_loss: 0.3624 - dense_3_loss: 0.4459 - val_loss: 0.8922 - val_dense_2_loss: 0.3837 - val_dense_3_loss: 0.5083\n",
      "Epoch 9/100\n",
      "11610/11610 [==============================] - 0s 35us/sample - loss: 0.8007 - dense_2_loss: 0.3618 - dense_3_loss: 0.4388 - val_loss: 0.8276 - val_dense_2_loss: 0.3710 - val_dense_3_loss: 0.4564\n",
      "Epoch 10/100\n",
      "11610/11610 [==============================] - 0s 37us/sample - loss: 0.7731 - dense_2_loss: 0.3488 - dense_3_loss: 0.4247 - val_loss: 0.7974 - val_dense_2_loss: 0.3598 - val_dense_3_loss: 0.4374\n",
      "Epoch 11/100\n",
      "11610/11610 [==============================] - 0s 38us/sample - loss: 0.7611 - dense_2_loss: 0.3445 - dense_3_loss: 0.4168 - val_loss: 0.7825 - val_dense_2_loss: 0.3541 - val_dense_3_loss: 0.4282\n",
      "Epoch 12/100\n",
      "11610/11610 [==============================] - 0s 36us/sample - loss: 0.7497 - dense_2_loss: 0.3402 - dense_3_loss: 0.4095 - val_loss: 0.7682 - val_dense_2_loss: 0.3526 - val_dense_3_loss: 0.4155\n",
      "Epoch 13/100\n",
      "11610/11610 [==============================] - 0s 34us/sample - loss: 0.7446 - dense_2_loss: 0.3385 - dense_3_loss: 0.4060 - val_loss: 0.7493 - val_dense_2_loss: 0.3401 - val_dense_3_loss: 0.4091\n",
      "Epoch 14/100\n",
      "11610/11610 [==============================] - 0s 36us/sample - loss: 0.7369 - dense_2_loss: 0.3348 - dense_3_loss: 0.4020 - val_loss: 0.7316 - val_dense_2_loss: 0.3355 - val_dense_3_loss: 0.3960\n",
      "Epoch 15/100\n",
      "11610/11610 [==============================] - 0s 32us/sample - loss: 0.7270 - dense_2_loss: 0.3313 - dense_3_loss: 0.3957 - val_loss: 0.7329 - val_dense_2_loss: 0.3366 - val_dense_3_loss: 0.3961\n",
      "Epoch 16/100\n",
      "11610/11610 [==============================] - 0s 42us/sample - loss: 0.7228 - dense_2_loss: 0.3306 - dense_3_loss: 0.3920 - val_loss: 0.7557 - val_dense_2_loss: 0.3449 - val_dense_3_loss: 0.4107\n",
      "Epoch 17/100\n",
      "11610/11610 [==============================] - 0s 32us/sample - loss: 0.7189 - dense_2_loss: 0.3286 - dense_3_loss: 0.3903 - val_loss: 0.7316 - val_dense_2_loss: 0.3323 - val_dense_3_loss: 0.3992\n",
      "Epoch 18/100\n",
      "11610/11610 [==============================] - 0s 34us/sample - loss: 0.7337 - dense_2_loss: 0.3411 - dense_3_loss: 0.3924 - val_loss: 0.7373 - val_dense_2_loss: 0.3434 - val_dense_3_loss: 0.3938\n",
      "Epoch 19/100\n",
      "11610/11610 [==============================] - 0s 36us/sample - loss: 0.7132 - dense_2_loss: 0.3277 - dense_3_loss: 0.3857 - val_loss: 0.7277 - val_dense_2_loss: 0.3357 - val_dense_3_loss: 0.3919\n"
     ]
    }
   ],
   "source": [
    "x_train_scaled_wide = x_train_scaled[:, :5]\n",
    "x_train_scaled_deep = x_train_scaled[:,2:]\n",
    "x_valid_scaled_wide = x_valid_scaled[:, :5]\n",
    "x_valid_scaled_deep = x_valid_scaled[:, 2:]\n",
    "x_test_scaled_wide = x_test_scaled[:, :5]\n",
    "x_test_scaled_deep = x_test_scaled[:,2:]\n",
    "\n",
    "history = model.fit([x_train_scaled_wide, x_train_scaled_deep], [y_train, y_train], epochs = 100, validation_data = [[x_valid_scaled_wide, x_valid_scaled_deep], [y_valid, y_valid]], callbacks = callbacks)"
   ]
  },
  {
   "cell_type": "code",
   "execution_count": 7,
   "metadata": {},
   "outputs": [
    {
     "data": {
      "image/png": "[encoded data removed]",
      "text/plain": [
       "<Figure size 576x360 with 1 Axes>"
      ]
     },
     "metadata": {
      "needs_background": "light"
     },
     "output_type": "display_data"
    }
   ],
   "source": [
    "def plot_learning_curves(history):\n",
    "    pd.DataFrame(history.history).plot(figsize = (8, 5))\n",
    "    plt.grid(True)\n",
    "    plt.gca().set_ylim(0, 1)\n",
    "    plt.show()\n",
    "    \n",
    "plot_learning_curves(history)"
   ]
  },
  {
   "cell_type": "code",
   "execution_count": 8,
   "metadata": {},
   "outputs": [
    {
     "name": "stdout",
     "output_type": "stream",
     "text": [
      "5160/5160 [==============================] - 0s 19us/sample - loss: 0.7108 - dense_2_loss: 0.3350 - dense_3_loss: 0.3781\n"
     ]
    },
    {
     "data": {
      "text/plain": [
       "[0.7107726684836454, 0.33497354, 0.3780723]"
      ]
     },
     "execution_count": 8,
     "metadata": {},
     "output_type": "execute_result"
    }
   ],
   "source": [
    "model.evaluate([x_test_scaled_wide, x_test_scaled_deep],  [y_test, y_test])"
   ]
  }
 ],
 "metadata": {
  "kernelspec": {
   "display_name": "Python 3",
   "language": "python",
   "name": "python3"
  },
  "language_info": {
   "codemirror_mode": {
    "name": "ipython",
    "version": 3
   },
   "file_extension": ".py",
   "mimetype": "text/x-python",
   "name": "python",
   "nbconvert_exporter": "python",
   "pygments_lexer": "ipython3",
   "version": "3.7.3"
  }
 },
 "nbformat": 4,
 "nbformat_minor": 4
}
