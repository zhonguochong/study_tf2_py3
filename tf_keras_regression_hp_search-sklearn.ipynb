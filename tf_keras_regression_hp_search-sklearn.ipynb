{
 "cells": [
  {
   "cell_type": "code",
   "execution_count": 1,
   "metadata": {},
   "outputs": [
    {
     "name": "stdout",
     "output_type": "stream",
     "text": [
      "2.1.0\n",
      "sys.version_info(major=3, minor=7, micro=4, releaselevel='final', serial=0)\n",
      "matplotlib 3.2.0\n",
      "numpy 1.18.1\n",
      "pandas 1.0.1\n",
      "sklearn 0.22.2.post1\n",
      "tensorflow 2.1.0\n",
      "tensorflow_core.python.keras.api._v2.keras 2.2.4-tf\n"
     ]
    }
   ],
   "source": [
    "import numpy as np\n",
    "import matplotlib as mpl\n",
    "import matplotlib.pyplot as plt\n",
    "import os\n",
    "import sys\n",
    "import time\n",
    "import sklearn\n",
    "import tensorflow as tf\n",
    "from tensorflow import keras\n",
    "import pandas as pd\n",
    "\n",
    "print(tf.__version__)\n",
    "print(sys.version_info)\n",
    "for module in mpl, np, pd,  sklearn, tf, keras:\n",
    "    print(module.__name__, module.__version__)"
   ]
  },
  {
   "cell_type": "code",
   "execution_count": 2,
   "metadata": {},
   "outputs": [
    {
     "name": "stdout",
     "output_type": "stream",
     "text": [
      ".. _california_housing_dataset:\n",
      "\n",
      "California Housing dataset\n",
      "--------------------------\n",
      "\n",
      "**Data Set Characteristics:**\n",
      "\n",
      "    :Number of Instances: 20640\n",
      "\n",
      "    :Number of Attributes: 8 numeric, predictive attributes and the target\n",
      "\n",
      "    :Attribute Information:\n",
      "        - MedInc        median income in block\n",
      "        - HouseAge      median house age in block\n",
      "        - AveRooms      average number of rooms\n",
      "        - AveBedrms     average number of bedrooms\n",
      "        - Population    block population\n",
      "        - AveOccup      average house occupancy\n",
      "        - Latitude      house block latitude\n",
      "        - Longitude     house block longitude\n",
      "\n",
      "    :Missing Attribute Values: None\n",
      "\n",
      "This dataset was obtained from the StatLib repository.\n",
      "http://lib.stat.cmu.edu/datasets/\n",
      "\n",
      "The target variable is the median house value for California districts.\n",
      "\n",
      "This dataset was derived from the 1990 U.S. census, using one row per census\n",
      "block group. A block group is the smallest geographical unit for which the U.S.\n",
      "Census Bureau publishes sample data (a block group typically has a population\n",
      "of 600 to 3,000 people).\n",
      "\n",
      "It can be downloaded/loaded using the\n",
      ":func:`sklearn.datasets.fetch_california_housing` function.\n",
      "\n",
      ".. topic:: References\n",
      "\n",
      "    - Pace, R. Kelley and Ronald Barry, Sparse Spatial Autoregressions,\n",
      "      Statistics and Probability Letters, 33 (1997) 291-297\n",
      "\n",
      "(20640, 8)\n",
      "(20640,)\n"
     ]
    }
   ],
   "source": [
    "from sklearn.datasets import fetch_california_housing\n",
    "\n",
    "housing = fetch_california_housing()\n",
    "print(housing.DESCR)\n",
    "print(housing.data.shape)\n",
    "print(housing.target.shape)"
   ]
  },
  {
   "cell_type": "code",
   "execution_count": 3,
   "metadata": {},
   "outputs": [
    {
     "name": "stdout",
     "output_type": "stream",
     "text": [
      "(3870, 8) (3870,)\n",
      "(11610, 8) (11610,)\n",
      "(5160, 8) (5160,)\n"
     ]
    }
   ],
   "source": [
    "from sklearn.model_selection import train_test_split\n",
    "\n",
    "x_train_all, x_test, y_train_all, y_test = train_test_split(housing.data, housing.target, random_state =7)\n",
    "x_train, x_valid, y_train, y_valid = train_test_split(x_train_all, y_train_all, random_state =11)\n",
    "\n",
    "print(x_valid.shape, y_valid.shape)\n",
    "print(x_train.shape, y_train.shape)\n",
    "print(x_test.shape, y_test.shape)"
   ]
  },
  {
   "cell_type": "code",
   "execution_count": 4,
   "metadata": {},
   "outputs": [],
   "source": [
    "from sklearn.preprocessing import StandardScaler\n",
    "\n",
    "scaler = StandardScaler()\n",
    "x_train_scaled = scaler.fit_transform(x_train)\n",
    "x_valid_scaled = scaler.transform(x_valid)\n",
    "x_test_scaled = scaler.transform(x_test)\n"
   ]
  },
  {
   "cell_type": "code",
   "execution_count": 5,
   "metadata": {},
   "outputs": [
    {
     "name": "stdout",
     "output_type": "stream",
     "text": [
      "Train on 11610 samples, validate on 3870 samples\n",
      "Epoch 1/100\n",
      "11610/11610 [==============================] - 1s 72us/sample - loss: 1.0495 - val_loss: 0.6311\n",
      "Epoch 2/100\n",
      "11610/11610 [==============================] - 1s 43us/sample - loss: 0.5524 - val_loss: 0.5713\n",
      "Epoch 3/100\n",
      "11610/11610 [==============================] - 0s 40us/sample - loss: 0.5106 - val_loss: 0.5346\n",
      "Epoch 4/100\n",
      "11610/11610 [==============================] - 0s 37us/sample - loss: 0.4882 - val_loss: 0.5119\n",
      "Epoch 5/100\n",
      "11610/11610 [==============================] - 0s 39us/sample - loss: 0.4732 - val_loss: 0.4949\n",
      "Epoch 6/100\n",
      "11610/11610 [==============================] - 0s 37us/sample - loss: 0.4592 - val_loss: 0.4827\n",
      "Epoch 7/100\n",
      "11610/11610 [==============================] - 0s 39us/sample - loss: 0.4490 - val_loss: 0.4741\n",
      "Epoch 8/100\n",
      "11610/11610 [==============================] - 0s 36us/sample - loss: 0.4466 - val_loss: 0.4632\n",
      "Epoch 9/100\n",
      "11610/11610 [==============================] - 0s 37us/sample - loss: 0.4365 - val_loss: 0.4561\n",
      "Epoch 10/100\n",
      "11610/11610 [==============================] - 0s 36us/sample - loss: 0.4324 - val_loss: 0.4499\n",
      "Epoch 11/100\n",
      "11610/11610 [==============================] - 0s 35us/sample - loss: 0.4275 - val_loss: 0.4508\n",
      "Epoch 12/100\n",
      "11610/11610 [==============================] - 0s 37us/sample - loss: 0.4229 - val_loss: 0.4407\n",
      "Epoch 13/100\n",
      "11610/11610 [==============================] - 0s 38us/sample - loss: 0.4192 - val_loss: 0.4375\n",
      "Epoch 14/100\n",
      "11610/11610 [==============================] - 0s 38us/sample - loss: 0.4188 - val_loss: 0.4334\n",
      "Epoch 15/100\n",
      "11610/11610 [==============================] - 0s 38us/sample - loss: 0.4131 - val_loss: 0.4283\n",
      "Epoch 16/100\n",
      "11610/11610 [==============================] - 0s 40us/sample - loss: 0.4114 - val_loss: 0.4288\n",
      "Epoch 17/100\n",
      "11610/11610 [==============================] - 0s 37us/sample - loss: 0.4074 - val_loss: 0.4245\n",
      "Epoch 18/100\n",
      "11610/11610 [==============================] - 0s 41us/sample - loss: 0.4047 - val_loss: 0.4210\n",
      "Epoch 19/100\n",
      "11610/11610 [==============================] - 0s 38us/sample - loss: 0.4023 - val_loss: 0.4198\n",
      "Epoch 20/100\n",
      "11610/11610 [==============================] - 0s 40us/sample - loss: 0.4020 - val_loss: 0.4167\n",
      "Epoch 21/100\n",
      "11610/11610 [==============================] - 0s 38us/sample - loss: 0.3982 - val_loss: 0.4114\n",
      "Epoch 22/100\n",
      "11610/11610 [==============================] - 0s 37us/sample - loss: 0.3981 - val_loss: 0.4104\n",
      "Epoch 23/100\n",
      "11610/11610 [==============================] - 0s 37us/sample - loss: 0.3957 - val_loss: 0.4095\n",
      "Epoch 24/100\n",
      "11610/11610 [==============================] - 0s 40us/sample - loss: 0.3922 - val_loss: 0.4045\n",
      "Epoch 25/100\n",
      "11610/11610 [==============================] - 0s 36us/sample - loss: 0.3905 - val_loss: 0.4052\n",
      "Epoch 26/100\n",
      "11610/11610 [==============================] - 0s 39us/sample - loss: 0.3909 - val_loss: 0.4025\n"
     ]
    }
   ],
   "source": [
    "# RandomizedSearchCV\n",
    "# 1. transform to sklearn model\n",
    "# 2. definite parameter collections\n",
    "# 3. search parameters\n",
    "def build_model(hidden_layers = 1,\n",
    "                layer_size = 30,\n",
    "                learning_rate = 3e-3):\n",
    "\n",
    "    model = keras.models.Sequential()\n",
    "    model.add(keras.layers.Dense(layer_size, activation = 'relu', input_shape = x_train.shape[1:]))\n",
    "    for _ in range(hidden_layers-1):\n",
    "        model.add(keras.layers.Dense(layer_size, activation = 'relu'))\n",
    "    out_put = model.add(keras.layers.Dense(1))\n",
    "\n",
    "    optimizer = keras.optimizers.SGD(learning_rate)\n",
    "    model.compile(loss = 'mse', optimizer = optimizer)\n",
    "    return model\n",
    "\n",
    "sklearn_model = keras.wrappers.scikit_learn.KerasRegressor(build_model)\n",
    "callbacks = [keras.callbacks.EarlyStopping(patience = 5,\n",
    "                                           min_delta = 1e-2)]\n",
    "history = sklearn_model.fit(x_train_scaled, y_train,\n",
    "                  epochs = 100,\n",
    "                  validation_data = [x_valid_scaled, y_valid],\n",
    "                  callbacks = callbacks)"
   ]
  },
  {
   "cell_type": "code",
   "execution_count": 10,
   "metadata": {},
   "outputs": [
    {
     "data": {
      "image/png": "[encoded data removed]",
      "text/plain": [
       "<Figure size 576x360 with 1 Axes>"
      ]
     },
     "metadata": {
      "needs_background": "light"
     },
     "output_type": "display_data"
    }
   ],
   "source": [
    "def plot_learning_curves(history):\n",
    "    pd.DataFrame(history.history).plot(figsize = (8, 5))\n",
    "    plt.grid(True)\n",
    "    plt.gca().set_ylim(0, 1)\n",
    "    plt.show()\n",
    "    \n",
    "plot_learning_curves(history)"
   ]
  }
 ],
 "metadata": {
  "kernelspec": {
   "display_name": "Python 3",
   "language": "python",
   "name": "python3"
  },
  "language_info": {
   "codemirror_mode": {
    "name": "ipython",
    "version": 3
   },
   "file_extension": ".py",
   "mimetype": "text/x-python",
   "name": "python",
   "nbconvert_exporter": "python",
   "pygments_lexer": "ipython3",
   "version": "3.7.4"
  }
 },
 "nbformat": 4,
 "nbformat_minor": 4
}
